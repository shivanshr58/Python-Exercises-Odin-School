{
  "nbformat": 4,
  "nbformat_minor": 0,
  "metadata": {
    "colab": {
      "provenance": [],
      "authorship_tag": "ABX9TyPy/+zSTF85CP0HbVcwoF1p",
      "include_colab_link": true
    },
    "kernelspec": {
      "name": "python3",
      "display_name": "Python 3"
    },
    "language_info": {
      "name": "python"
    }
  },
  "cells": [
    {
      "cell_type": "markdown",
      "metadata": {
        "id": "view-in-github",
        "colab_type": "text"
      },
      "source": [
        "<a href=\"https://colab.research.google.com/github/shivanshr58/Python-Exercises-Odin-School/blob/main/week_4_project.ipynb\" target=\"_parent\"><img src=\"https://colab.research.google.com/assets/colab-badge.svg\" alt=\"Open In Colab\"/></a>"
      ]
    },
    {
      "cell_type": "markdown",
      "source": [
        "#Q1:\n",
        "You are working in a bank, and you have been given two lists of the employees who worked in 2021. Employees’ names in list 1 are Ramesh, Suresh, Mahesh, Ali, Jacob, and Saritha. List 2 contains the names of Ali, Mukesh, Mahesh, Jacob, Sai, and Sarita. Please write a program that helps to identify people who are common in both lists. Please do not use any in-built function.\n",
        "\n"
      ],
      "metadata": {
        "id": "s7W7U2vfXMXU"
      }
    },
    {
      "cell_type": "markdown",
      "source": [
        "# Methodology:\n",
        "1. Iterate over each element in list1 and check whether that element exists in list2\n",
        "2.storing the common names"
      ],
      "metadata": {
        "id": "yQXNc7m0jfME"
      }
    },
    {
      "cell_type": "code",
      "source": [
        "list1=['Ramesh','Suresh','Mahesh','Ali','Jacob','Saritha']\n",
        "list2=['Ali','Mukesh','Mahesh','Jacob','Sai','Sarita']\n",
        "common=[]\n",
        "for name in list1:\n",
        "  if name in list2:                # searching for common elements\n",
        "    common.append(name)            #appending the common names to a list\n",
        "print('Names that appear in both lists-->',common)"
      ],
      "metadata": {
        "colab": {
          "base_uri": "https://localhost:8080/"
        },
        "id": "B4m3RTJkXH2R",
        "outputId": "3b681972-904e-4dd2-8f12-6ea052322dd9"
      },
      "execution_count": null,
      "outputs": [
        {
          "output_type": "stream",
          "name": "stdout",
          "text": [
            "Names that appear in both lists--> ['Mahesh', 'Ali', 'Jacob']\n"
          ]
        }
      ]
    },
    {
      "cell_type": "markdown",
      "source": [
        "#Q2:\n",
        " While entering data, someone entered a few names as a common string “Ramesh Suresh Mohit”. Please write a program which separates all the names and converts them into a list. Once converted into a list, please write a program that adds their age.\n",
        "\n",
        "\n",
        "\n",
        "Ramesh:  25\n",
        "\n",
        "Suresh: 22\n",
        "\n",
        "Mohit: 26"
      ],
      "metadata": {
        "id": "ONioQFCfX16v"
      }
    },
    {
      "cell_type": "markdown",
      "source": [
        "#Methodology:\n",
        "1. Storing given names in list\n",
        "2. Adding the ages for each name as a key,value pair"
      ],
      "metadata": {
        "id": "QpBVbjZVjT1k"
      }
    },
    {
      "cell_type": "code",
      "source": [
        "list1=input().split()                                   #input string of names by the user\n",
        "print('List with all the names--> ',list1)\n",
        "dict={}                                                 #new dict for  storing name and age\n",
        "for name in list1:                                      #asking age for every name and adding it to dict\n",
        "  dict[name]=int(input(f'Enter the age of {name}: '))\n",
        "print(dict)"
      ],
      "metadata": {
        "colab": {
          "base_uri": "https://localhost:8080/"
        },
        "id": "iPmZDXa1X2xB",
        "outputId": "72637176-969b-427a-d93a-7fceafa4c7f8"
      },
      "execution_count": null,
      "outputs": [
        {
          "output_type": "stream",
          "name": "stdout",
          "text": [
            "Ramesh Suresh Mohit\n",
            "List with all the names-->  ['Ramesh', 'Suresh', 'Mohit']\n",
            "Enter the age of Ramesh: 25\n",
            "Enter the age of Suresh: 22\n",
            "Enter the age of Mohit: 26\n",
            "{'Ramesh': 25, 'Suresh': 22, 'Mohit': 26}\n"
          ]
        }
      ]
    },
    {
      "cell_type": "code",
      "source": [
        "print('The sum of their age is --> ',sum(dict.values()))"
      ],
      "metadata": {
        "colab": {
          "base_uri": "https://localhost:8080/"
        },
        "id": "A82TKNeYuFJ4",
        "outputId": "21483c21-3744-4746-c185-4149c2e7d1e3"
      },
      "execution_count": null,
      "outputs": [
        {
          "output_type": "stream",
          "name": "stdout",
          "text": [
            "The sum of their age is -->  73\n"
          ]
        }
      ]
    },
    {
      "cell_type": "markdown",
      "source": [
        "# Q3:\n",
        " You are working in a medical store. A patient came to your medical store and asked to buy 2 strips of paracetamol, 3 strips of azithromycin, and 5 strips of Vitamin C. One strip of paracetamol costs Rs 35, one strip of azithromycin costs Rs 49, and one strip of vitamin c costs Rs. 33. Patient gave you Rs 2000. Please tell us what is the total cost of each medicine, the total cost of all medicine, and how much money you refunded to the patient.  "
      ],
      "metadata": {
        "id": "39sp8oKQYgaN"
      }
    },
    {
      "cell_type": "markdown",
      "source": [
        "#Methodology:\n",
        "1. Storing the prices of medicines in a dictionary\n",
        "2. Taking order details as user input\n",
        "3. Generating bill\n",
        "4. Calculating refund"
      ],
      "metadata": {
        "id": "DwWnn195i00o"
      }
    },
    {
      "cell_type": "code",
      "source": [
        "med_price={'para':35,'azit':49,'vita':33}      #the prices of available medicines\n",
        "order=input().split()               #input= 2para 3azit 5vita\n",
        "bill={}\n",
        "for med in order:\n",
        "  bill[med[1:]]=med_price[med[1:]]*int(med[0])     #separating the number and medicine from the input\n",
        "bill['total_due']=sum(bill.values())               #summing the amount payable\n",
        "print('Bill --> ',bill)\n",
        "pay_received=int(input('Enter the payment received from the customer: '))\n",
        "payment={'pay_received':pay_received,'total_due':bill['total_due'],'Refund':pay_received-bill['total_due']}\n",
        "print('Payment Details --> ',payment)"
      ],
      "metadata": {
        "colab": {
          "base_uri": "https://localhost:8080/"
        },
        "id": "h1XaeM-iE73C",
        "outputId": "5f3747e5-dd13-4d2c-96ea-351e3965903d"
      },
      "execution_count": null,
      "outputs": [
        {
          "output_type": "stream",
          "name": "stdout",
          "text": [
            "2para 3azit 5vita\n",
            "Bill -->  {'para': 70, 'azit': 147, 'vita': 165, 'total_due': 382}\n",
            "Enter the payment received from the customer: 2000\n",
            "Payment Details -->  {'pay_received': 2000, 'total_due': 382, 'Refund': 1618}\n"
          ]
        }
      ]
    },
    {
      "cell_type": "markdown",
      "source": [
        "# OR"
      ],
      "metadata": {
        "id": "W2103wpYkzWU"
      }
    },
    {
      "cell_type": "code",
      "source": [
        "med_price={'paracetamol':35,'azithromycin':49,'Vitamin c':33}\n",
        "purchased_quantity={'paracetamol':2,'azithromycin':3,'Vitamin c':5}\n",
        "bill={}\n",
        "for i in purchased_quantity.keys():\n",
        "  bill[i]=med_price[i]*purchased_quantity[i]    #multiplying price with quantity to calculate total amount\n",
        "bill['total_bill']=sum(bill.values())\n",
        "print('Bill-->',bill,'\\n')\n",
        "payment={}                              #new dictionary stores payment info\n",
        "payment['payable']=bill['total_bill']\n",
        "payment['pay_received']=2000\n",
        "payment['refund']=payment['pay_received']-payment['payable']\n",
        "print('Payment-->',payment)"
      ],
      "metadata": {
        "colab": {
          "base_uri": "https://localhost:8080/"
        },
        "id": "bztDB7o8Yirf",
        "outputId": "ed53fbc2-4524-40ff-c4ef-7423df09ed8b"
      },
      "execution_count": null,
      "outputs": [
        {
          "output_type": "stream",
          "name": "stdout",
          "text": [
            "Bill--> {'paracetamol': 70, 'azithromycin': 147, 'Vitamin c': 165, 'total_bill': 382} \n",
            "\n",
            "Payment--> {'payable': 382, 'pay_received': 2000, 'refund': 1618}\n"
          ]
        }
      ]
    },
    {
      "cell_type": "markdown",
      "source": [
        "# Q4:\n",
        " Accept a sentence as input and find the number of vowels in it. Assume that the sentence has no punctuation marks. For example, I am learning python contains 6 vowels. This function should be applicable for all other different sentences.\n",
        "\n"
      ],
      "metadata": {
        "id": "1mRmnmdmbVcK"
      }
    },
    {
      "cell_type": "markdown",
      "source": [
        "#Methodology:\n",
        "1. Initialising a count variable which will store the number of vowels\n",
        "2. Storing the vowels in a list\n",
        "3. Iterating over each letter in a sentence and incrementing count by 1 each time it is a vowel"
      ],
      "metadata": {
        "id": "_w7_HoAiigDu"
      }
    },
    {
      "cell_type": "code",
      "source": [
        "def count_vowels(sent):             #defining a function\n",
        "  vowels=['a','e','i','o','u']\n",
        "  count_vowels=0                    #storing the number of vowels\n",
        "  for letter in sent:               #loop for checking for vowels\n",
        "    if letter.lower() in vowels: #lower for case insensitive matching\n",
        "      count_vowels+=1\n",
        "  print(f\"The number of vowels in '{sent}' is {count_vowels}\")\n",
        "count_vowels('I am learning python')"
      ],
      "metadata": {
        "colab": {
          "base_uri": "https://localhost:8080/"
        },
        "id": "GMi_2qvDbXbW",
        "outputId": "eab23e3e-6328-4de0-834b-a422365f7fcb"
      },
      "execution_count": null,
      "outputs": [
        {
          "output_type": "stream",
          "name": "stdout",
          "text": [
            "The number of vowels in 'I am learning python' is 6\n"
          ]
        }
      ]
    },
    {
      "cell_type": "markdown",
      "source": [
        "# Q5:\n",
        " You have been appointed by the election commission to create a website. Your first task is to work on a program which tells candidates if they are eligible for voting or not. If they are eligible, your output should be ‘Congrats! You are eligible’; otherwise, it should tell that you have to return after X number of years. The eligibility criteria for voting is 18 years.\n",
        "\n",
        "For example, If someone is 18 or above, your output should be ‘Congrats! You are eligible’. If someone’s age is 15 years, it should print output as ‘return after 3 years’.   "
      ],
      "metadata": {
        "id": "5VUQNuOAckd9"
      }
    },
    {
      "cell_type": "markdown",
      "source": [
        "#Methodology:\n",
        "1. Accepting input age and handling error\n",
        "2. Checking whether the age fulfills some requirements"
      ],
      "metadata": {
        "id": "rHM-iTttiGWW"
      }
    },
    {
      "cell_type": "code",
      "source": [
        "try:                                              #for handling value error\n",
        "  age=int(input('Please Enter your Age : '))\n",
        "  if age<=0:                                      #checking for negative value entered\n",
        "    print('Please Enter valid age')\n",
        "  elif age>=18:\n",
        "    print('Congrats! You are eligible')\n",
        "  else :\n",
        "    print(f'Please return after {18-age} years')\n",
        "except ValueError:                                #what to return when a non-int value in entered\n",
        "  print('Please Enter a valid Integer')"
      ],
      "metadata": {
        "colab": {
          "base_uri": "https://localhost:8080/"
        },
        "id": "orJiSrxCclWT",
        "outputId": "a1c62845-37cc-4743-e035-04860b056b91"
      },
      "execution_count": null,
      "outputs": [
        {
          "output_type": "stream",
          "name": "stdout",
          "text": [
            "Please Enter your Age : 10\n",
            "Please return after 8 years\n"
          ]
        }
      ]
    },
    {
      "cell_type": "markdown",
      "source": [
        "# Q6:\n",
        " Given a list of integers, find the cumulative sum of the elements of the list and store them in another list.\n",
        "\n",
        "\n",
        "\n",
        "A = [1, 2, 3, 4, 5]\n",
        "\n",
        "\n",
        "\n",
        "Output:\n",
        "\n",
        "[1, 3, 6, 10, 15]"
      ],
      "metadata": {
        "id": "hR3AANFgdbHK"
      }
    },
    {
      "cell_type": "markdown",
      "source": [
        "#Methodology:\n",
        "1. Creating a sum variable that keeps on adding each element to itself\n",
        "2. Append the sum to a list everytime the sum is calculated"
      ],
      "metadata": {
        "id": "_FOoRxOpg5a4"
      }
    },
    {
      "cell_type": "code",
      "source": [
        "A = [1, 2, 3, 4, 5]\n",
        "cumul_list=[]                            #new list to store the cum_sum\n",
        "cumul_sum=0\n",
        "for i in A:\n",
        "  cumul_sum+=i\n",
        "  cumul_list.append(cumul_sum)\n",
        "print('The cumulative sum is --> ',cumul_list)"
      ],
      "metadata": {
        "colab": {
          "base_uri": "https://localhost:8080/"
        },
        "id": "BqYx6HuCc3ez",
        "outputId": "ad21b2cf-a88e-4353-e412-0bf8282679c2"
      },
      "execution_count": null,
      "outputs": [
        {
          "output_type": "stream",
          "name": "stdout",
          "text": [
            "The cumulative sum is -->  [1, 3, 6, 10, 15]\n"
          ]
        }
      ]
    },
    {
      "cell_type": "code",
      "source": [
        "print(l.append())"
      ],
      "metadata": {
        "id": "KSs0NzUQUH09"
      },
      "execution_count": null,
      "outputs": []
    },
    {
      "cell_type": "markdown",
      "source": [
        "#Q7:\n",
        "\n",
        "WAP to encode a message entered by user as per below conditions:\n",
        "\n",
        "\n",
        "\n",
        "for every word in the sentence,\n",
        "\n",
        "1. If the word starts with a vowel, encode it as the first and last letter of the word.\n",
        "\n",
        "2. If the word starts with a consonant, remove all vowels from it.\n",
        "\n",
        "\n",
        "\n",
        "Ensure the case insensitive comparisons/checks are performed.\n",
        "\n",
        "\n",
        "\n",
        "Please enter your text:The quick brown fox used to sleep inside this box\n",
        "\n",
        "Encoded Msg: Th qck brwn fx ud t slp ie ths bx"
      ],
      "metadata": {
        "id": "z-YWY4MgeEsj"
      }
    },
    {
      "cell_type": "markdown",
      "source": [
        "# Methodology:\n",
        "1. Separating words based on vowel and consonants\n",
        "2. perform separate encoding for both according to requirement"
      ],
      "metadata": {
        "id": "C15oeJ56eTcz"
      }
    },
    {
      "cell_type": "code",
      "source": [
        "def my_encoder(str1):\n",
        "  words=str1.split()\n",
        "  vowels=['a','e','i','o','u']\n",
        "  final_res=''\n",
        "  for word in words:                                     #--For words starting with vowels--\n",
        "    if word[0].lower() in vowels:                        #| takes the first and last letter\n",
        "      final_res+=' ' + str(word[0]) + str(word[-1])      #| of each word and adds it to final result\n",
        "\n",
        "\n",
        "    else:\n",
        "      encoded_word=''                       #--For words not starting with vowels--\n",
        "      for letter in word:                   #| takes each consonant in the word\n",
        "        if letter.lower() not in vowels:    #| and\n",
        "          encoded_word+=letter              #| stores it as encoded_word,\n",
        "      final_res+=' ' + encoded_word         #| then adds it to the final result\n",
        "  print('Encoded Message --> ',final_res)\n",
        "\n",
        "my_encoder(input('Please enter your text: '))      #calls the function"
      ],
      "metadata": {
        "colab": {
          "base_uri": "https://localhost:8080/"
        },
        "id": "mxTBmwCoViWB",
        "outputId": "8d58b573-694d-4edf-f930-49a724f35f35"
      },
      "execution_count": null,
      "outputs": [
        {
          "output_type": "stream",
          "name": "stdout",
          "text": [
            "Please enter your text: The quick brown fox used to sleep inside this box\n",
            "Encoded Message -->   Th qck brwn fx ud t slp ie ths bx\n"
          ]
        }
      ]
    },
    {
      "cell_type": "markdown",
      "source": [
        "#Q8:\n",
        "\n",
        "Write a program to implement run length encoding of a string\n",
        "\n",
        "\n",
        "\n",
        "RLE:Consecutive repetition of a character has to be replaced with the count of occurrences and the character.\n",
        "\n",
        "\n",
        "\n",
        "Enter your string :aabbbccdddae\n",
        "\n",
        "Encoded: 2a3b2c3d1a1e"
      ],
      "metadata": {
        "id": "vHhoChYfiHpU"
      }
    },
    {
      "cell_type": "markdown",
      "source": [
        "# Methodology:\n",
        "1. Separating the string into groups of repetitions\n",
        "2. Counting the length of each train\n",
        "3. Adding count and letter to result string"
      ],
      "metadata": {
        "id": "VZQGW_yrd7cQ"
      }
    },
    {
      "cell_type": "code",
      "source": [
        "def rl_encoder(str2):\n",
        "  new_str=''                    #|     This\n",
        "  new_str+=str2[0]              #|    part\n",
        "  for i in str2[1:]:            #|   separates\n",
        "    if new_str[-1]==i:          #|   the\n",
        "      new_str+=i                #|   string\n",
        "    else:                       #|    into\n",
        "      new_str+=' ' + i          #|     trains\n",
        "\n",
        "\n",
        "  final_res=''                                    #| this part\n",
        "  for train in new_str.split():                   #| extracts the length of each train,\n",
        "    final_res+=str(len(train)) + str(train[0])    #| joins it with the letter\n",
        "  print(final_res)                                #| and prints the final ouput\n",
        "\n",
        "rl_encoder('aabbbccdddae')          #calling the function"
      ],
      "metadata": {
        "colab": {
          "base_uri": "https://localhost:8080/"
        },
        "id": "-ELkl5qnYGsM",
        "outputId": "c6d294f4-75bc-475a-b187-99170747d312"
      },
      "execution_count": null,
      "outputs": [
        {
          "output_type": "stream",
          "name": "stdout",
          "text": [
            "2a3b2c3d1a1e\n"
          ]
        }
      ]
    },
    {
      "cell_type": "code",
      "source": [
        "#new_str='aaa bbb cc ddd a e'\n",
        "\n",
        "#trains=['aaa','bbb','cc''ddd','a','e']"
      ],
      "metadata": {
        "id": "nAF-gjZzzRk_"
      },
      "execution_count": null,
      "outputs": []
    },
    {
      "cell_type": "markdown",
      "source": [
        "# OR"
      ],
      "metadata": {
        "id": "wF1k0m28dhoD"
      }
    },
    {
      "cell_type": "code",
      "source": [
        "str1='aabbbccdddae'\n",
        "l=list(str1)\n",
        "Encoded=''\n",
        "temp=[]\n",
        "for i in str1:\n",
        "  if len(temp)==0:\n",
        "      temp.append(i)\n",
        "  elif temp[-1]==i:\n",
        "      temp.append(i)\n",
        "  else:\n",
        "    Encoded+=f'{len(temp)}{temp[-1]}'\n",
        "    temp.clear()\n",
        "    temp.append(i)\n",
        "Encoded+=f'{len(temp)}{temp[-1]}'\n",
        "print(Encoded)"
      ],
      "metadata": {
        "colab": {
          "base_uri": "https://localhost:8080/"
        },
        "id": "cBDFyCpviI6m",
        "outputId": "8faf2e98-2388-4ca1-c0e7-d38fc9a9712d"
      },
      "execution_count": null,
      "outputs": [
        {
          "output_type": "stream",
          "name": "stdout",
          "text": [
            "2a3b2c3d1a1e\n"
          ]
        }
      ]
    }
  ]
}